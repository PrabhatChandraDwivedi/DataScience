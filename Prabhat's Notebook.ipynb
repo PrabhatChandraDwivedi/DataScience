{
    "cells": [
        {
            "metadata": {
                "collapsed": true
            },
            "cell_type": "markdown",
            "source": "# My Jupyter Notebook on IBM Watson Studio\n"
        },
        {
            "metadata": {},
            "cell_type": "markdown",
            "source": "**Prabhat Chandra Dwivedi** <br>\nOn the way to become a Data scientist"
        },
        {
            "metadata": {},
            "cell_type": "markdown",
            "source": "*I love data science because of the following reasons:* <br>\n- *It creates curiosty* <br>\n- *It brings out the hidden depths of a data* <br>\n- *It can be applied to any domain you can think of.* <br>\n- *Best job with good money for 21<sup>st</sup>century* <br>\n- *It provides so much power in your hands by giving important data in your hands* <br>"
        },
        {
            "metadata": {},
            "cell_type": "markdown",
            "source": "### Finding the biggest number among three numbers"
        },
        {
            "metadata": {},
            "cell_type": "code",
            "source": "Number1 = float(input(\"Enter the first number: \"))\nNumber2 = float(input(\"Enter the second number: \"))\nNumber3 = float(input(\"Enter the third number: \"))\n \nif (Number1 > Number2) and (Number1 > Number3):\n   largest = Number1\nelif (Number2 > Number1) and (Number2 > Number3):\n   largest = Number2\nelse:\n   largest = Number3\n \nprint(\"The largest number among the given numbers is\",largest)",
            "execution_count": 15,
            "outputs": [
                {
                    "output_type": "stream",
                    "name": "stdout",
                    "text": "Enter the first number: -99\nEnter the second number: -99.8\nEnter the third number: -98.1\nThe largest number among the given numbers is -98.1\n"
                }
            ]
        },
        {
            "metadata": {},
            "cell_type": "markdown",
            "source": "Things I will do after this course<br>\n- I will revise the course many times.\n- I will continue with the other courses.\n- And I will apply for a job.\n- And I will ~~not~~ share the certificate on my social media. <br><br>\nThis jupyter notebook ends here.\n____"
        },
        {
            "metadata": {},
            "cell_type": "code",
            "source": "EndCredits1 = \"Thank you so much \"\nEndCredits2 = \"for reading my first jupyter notebook.\"\nEndCredits = EndCredits1+EndCredits2\nWarmRegards = \"Warm Regards \\nPrabhat Chandra Dwivedi\"\nprint(EndCredits)\nprint(WarmRegards)",
            "execution_count": 17,
            "outputs": [
                {
                    "output_type": "stream",
                    "text": "Thank you so much for reading my first jupyter notebook.\nWarm Regards \nPrabhat Chandra Dwivedi\n",
                    "name": "stdout"
                }
            ]
        }
    ],
    "metadata": {
        "kernelspec": {
            "name": "python3",
            "display_name": "Python 3.7",
            "language": "python"
        },
        "language_info": {
            "name": "python",
            "version": "3.7.10",
            "mimetype": "text/x-python",
            "codemirror_mode": {
                "name": "ipython",
                "version": 3
            },
            "pygments_lexer": "ipython3",
            "nbconvert_exporter": "python",
            "file_extension": ".py"
        }
    },
    "nbformat": 4,
    "nbformat_minor": 1
}